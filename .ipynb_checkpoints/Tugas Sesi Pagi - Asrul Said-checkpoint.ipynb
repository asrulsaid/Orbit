{
 "cells": [
  {
   "cell_type": "code",
   "execution_count": 5,
   "metadata": {},
   "outputs": [
    {
     "name": "stdout",
     "output_type": "stream",
     "text": [
      "Enter Password : qwerty\n",
      "Wrong!!!\n",
      "Enter Password : 12345\n",
      "Wrong!!!\n",
      "Enter Password : orbit\n",
      "Correct\n"
     ]
    }
   ],
   "source": [
    "while True:\n",
    "    passwd = input(\"Enter Password : \")\n",
    "    if passwd == \"orbit\":\n",
    "        print(\"Correct\")\n",
    "        break\n",
    "    print(\"Wrong!!!\")"
   ]
  },
  {
   "cell_type": "code",
   "execution_count": null,
   "metadata": {},
   "outputs": [],
   "source": []
  }
 ],
 "metadata": {
  "kernelspec": {
   "display_name": "Python 3",
   "language": "python",
   "name": "python3"
  },
  "language_info": {
   "codemirror_mode": {
    "name": "ipython",
    "version": 3
   },
   "file_extension": ".py",
   "mimetype": "text/x-python",
   "name": "python",
   "nbconvert_exporter": "python",
   "pygments_lexer": "ipython3",
   "version": "3.8.6"
  }
 },
 "nbformat": 4,
 "nbformat_minor": 4
}
