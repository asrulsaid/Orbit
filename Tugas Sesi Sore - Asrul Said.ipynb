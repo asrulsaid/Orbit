{
 "cells": [
  {
   "cell_type": "code",
   "execution_count": 4,
   "metadata": {},
   "outputs": [
    {
     "name": "stdout",
     "output_type": "stream",
     "text": [
      "Masukkan Nama Anda / Tekan Q untuk keluar:Asrul\n",
      "Masukkan Nama Anda / Tekan Q untuk keluar:Budi\n",
      "Masukkan Nama Anda / Tekan Q untuk keluar:Q\n",
      "['Asrul', 'Budi']\n"
     ]
    }
   ],
   "source": [
    "list_nama = []\n",
    "while True:\n",
    "    input_user = input(\"Masukkan Nama Anda / Tekan Q untuk keluar:\")\n",
    "    if input_user == \"Q\":\n",
    "        print(list_nama)\n",
    "        break\n",
    "    else:\n",
    "        list_nama.append(input_user)\n",
    "    "
   ]
  },
  {
   "cell_type": "code",
   "execution_count": null,
   "metadata": {},
   "outputs": [],
   "source": []
  }
 ],
 "metadata": {
  "kernelspec": {
   "display_name": "Python 3",
   "language": "python",
   "name": "python3"
  },
  "language_info": {
   "codemirror_mode": {
    "name": "ipython",
    "version": 3
   },
   "file_extension": ".py",
   "mimetype": "text/x-python",
   "name": "python",
   "nbconvert_exporter": "python",
   "pygments_lexer": "ipython3",
   "version": "3.8.6"
  }
 },
 "nbformat": 4,
 "nbformat_minor": 4
}
