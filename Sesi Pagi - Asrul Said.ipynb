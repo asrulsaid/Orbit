{
 "cells": [
  {
   "cell_type": "markdown",
   "metadata": {},
   "source": [
    "### Quiz Ganjil Genap"
   ]
  },
  {
   "cell_type": "code",
   "execution_count": 446,
   "metadata": {},
   "outputs": [
    {
     "name": "stdout",
     "output_type": "stream",
     "text": [
      "Masukkan Angka : 21\n",
      "Bilangan Ganjil\n"
     ]
    }
   ],
   "source": [
    "# Quiz Ganjil Genap\n",
    "angka = int(input(\"Masukkan Angka : \"))\n",
    "if (angka % 2 == 0):\n",
    "    print(\"Bilangan Genap\")\n",
    "else:\n",
    "    print(\"Bilangan Ganjil\")\n"
   ]
  },
  {
   "cell_type": "markdown",
   "metadata": {},
   "source": [
    "### Quiz Aritmatika"
   ]
  },
  {
   "cell_type": "code",
   "execution_count": 447,
   "metadata": {},
   "outputs": [
    {
     "name": "stdout",
     "output_type": "stream",
     "text": [
      "Program menghitung Luas atau Keliling Persegi Panjang\n",
      "Silahkan pilih :\n",
      "1. Luas        2. Keliling        3. Keluar\n",
      "1\n",
      "Masukkan Panjang : 3\n",
      "Masukkan Lebar : 4\n",
      "Luas =  12.0\n",
      "Program menghitung Luas atau Keliling Persegi Panjang\n",
      "Silahkan pilih :\n",
      "1. Luas        2. Keliling        3. Keluar\n",
      "2\n",
      "Masukkan Panjang : 3\n",
      "Masukkan Lebar : 4\n",
      "Keliling =  14.0\n",
      "Program menghitung Luas atau Keliling Persegi Panjang\n",
      "Silahkan pilih :\n",
      "1. Luas        2. Keliling        3. Keluar\n",
      "3\n"
     ]
    }
   ],
   "source": [
    "while True:\n",
    "    print(\"Program menghitung Luas atau Keliling Persegi Panjang\")\n",
    "    print(\"Silahkan pilih :\")\n",
    "    print(\"1. Luas        2. Keliling        3. Keluar\")\n",
    "    pilihan = int(input())\n",
    "    if pilihan == 1:\n",
    "        p = float(input(\"Masukkan Panjang : \"))\n",
    "        l = float(input(\"Masukkan Lebar : \"))\n",
    "        luas = p * l\n",
    "        print(\"Luas = \", luas)\n",
    "    elif pilihan == 2:\n",
    "        p = float(input(\"Masukkan Panjang : \"))\n",
    "        l = float(input(\"Masukkan Lebar : \"))\n",
    "        keliling = 2*(p+l)\n",
    "        print(\"Keliling = \", keliling)\n",
    "    elif pilihan == 3:\n",
    "        break\n",
    "    else:\n",
    "        print(\"Silahkan pilih 1 , 2 atau 3\")"
   ]
  },
  {
   "cell_type": "markdown",
   "metadata": {},
   "source": [
    "### Quiz Mencari Error"
   ]
  },
  {
   "cell_type": "code",
   "execution_count": 448,
   "metadata": {
    "scrolled": true
   },
   "outputs": [
    {
     "name": "stdout",
     "output_type": "stream",
     "text": [
      "Hello!\n",
      "Enter something : hi\n",
      "Hi there!\n"
     ]
    }
   ],
   "source": [
    "print(\"Hello!\")\n",
    "something = input(\"Enter something : \")\n",
    "if something == 'hello':\n",
    "    print(\"Hello for you too!\")\n",
    "elif something == 'hi':\n",
    "    print(\"Hi there!\")\n",
    "else:\n",
    "    print(\"I don't know what\", something, \"means.\")"
   ]
  },
  {
   "cell_type": "markdown",
   "metadata": {},
   "source": [
    "### Quiz Hello Hai"
   ]
  },
  {
   "cell_type": "code",
   "execution_count": 449,
   "metadata": {
    "scrolled": true
   },
   "outputs": [
    {
     "name": "stdout",
     "output_type": "stream",
     "text": [
      "halo hai halo hai halo hai halo hai halo hai halo hai halo hai halo hai halo hai halo hai halo hai halo hai halo hai halo hai halo hai halo hai halo hai halo hai halo hai halo hai halo hai halo hai halo hai halo hai halo hai halo hai halo hai halo hai halo hai halo hai halo hai halo hai halo hai halo hai halo hai halo hai halo hai halo hai halo hai halo hai halo hai halo hai halo hai halo hai halo hai halo hai halo hai halo hai halo hai halo hai halo hai halo hai halo hai halo hai halo hai halo hai halo hai halo hai halo hai halo hai halo hai halo hai halo hai halo hai halo hai halo hai halo hai halo hai halo hai halo hai halo hai halo hai halo hai halo hai halo hai halo hai halo hai halo hai halo hai halo hai halo hai halo hai halo hai halo hai halo hai halo hai halo hai halo hai halo hai halo hai halo hai halo hai halo hai halo hai halo hai halo hai halo hai halo hai halo hai halo hai "
     ]
    }
   ],
   "source": [
    "# print(\"halo hai \"*100)\n",
    "for i in range(100):\n",
    "    print(\"halo hai\", end=\" \")"
   ]
  },
  {
   "cell_type": "markdown",
   "metadata": {},
   "source": [
    "### Quiz Asterisk"
   ]
  },
  {
   "cell_type": "code",
   "execution_count": 450,
   "metadata": {},
   "outputs": [
    {
     "name": "stdout",
     "output_type": "stream",
     "text": [
      "5\n",
      "*\n",
      "**\n",
      "***\n",
      "****\n",
      "*****\n",
      "****\n",
      "***\n",
      "**\n",
      "*\n"
     ]
    }
   ],
   "source": [
    "n = int(input())\n",
    "for i in range(n):\n",
    "    for j in range(i+1):\n",
    "        print('*', end='')\n",
    "    print()\n",
    "    \n",
    "for i in range(n-1, 0 , -1):\n",
    "    for j in range(i):\n",
    "        print('*', end='')\n",
    "    print()"
   ]
  },
  {
   "cell_type": "markdown",
   "metadata": {},
   "source": [
    "### Tugas membuat Game menggunakan Conditional"
   ]
  },
  {
   "cell_type": "code",
   "execution_count": 451,
   "metadata": {},
   "outputs": [
    {
     "name": "stdout",
     "output_type": "stream",
     "text": [
      "1. Batu    2. Gunting    3. Kertas\n",
      "Pilihan : 1\n",
      "Kamu: Batu VS Komputer: Kertas\n",
      "Skor\n",
      "Kamu =  90 | Komputer =  100\n",
      "\n",
      "1. Batu    2. Gunting    3. Kertas\n",
      "Pilihan : 3\n",
      "Seri\n",
      "Skor\n",
      "Kamu =  90 | Komputer =  100\n",
      "\n",
      "1. Batu    2. Gunting    3. Kertas\n",
      "Pilihan : 2\n",
      "Kamu: Gunting VS Komputer: Batu\n",
      "Skor\n",
      "Kamu =  80 | Komputer =  100\n",
      "\n",
      "1. Batu    2. Gunting    3. Kertas\n",
      "Pilihan : 1\n",
      "Seri\n",
      "Skor\n",
      "Kamu =  80 | Komputer =  100\n",
      "\n",
      "1. Batu    2. Gunting    3. Kertas\n",
      "Pilihan : 2\n",
      "Kamu: Gunting VS Komputer: Kertas\n",
      "Skor\n",
      "Kamu =  80 | Komputer =  90\n",
      "\n",
      "1. Batu    2. Gunting    3. Kertas\n",
      "Pilihan : 3\n",
      "Kamu: Kertas VS Komputer: Batu\n",
      "Skor\n",
      "Kamu =  80 | Komputer =  80\n",
      "\n",
      "1. Batu    2. Gunting    3. Kertas\n",
      "Pilihan : 1\n",
      "Seri\n",
      "Skor\n",
      "Kamu =  80 | Komputer =  80\n",
      "\n",
      "1. Batu    2. Gunting    3. Kertas\n",
      "Pilihan : 2\n",
      "Kamu: Gunting VS Komputer: Batu\n",
      "Skor\n",
      "Kamu =  70 | Komputer =  80\n",
      "\n",
      "1. Batu    2. Gunting    3. Kertas\n",
      "Pilihan : 2\n",
      "Kamu: Gunting VS Komputer: Kertas\n",
      "Skor\n",
      "Kamu =  70 | Komputer =  70\n",
      "\n",
      "1. Batu    2. Gunting    3. Kertas\n",
      "Pilihan : 1\n",
      "Kamu: Batu VS Komputer: Gunting\n",
      "Skor\n",
      "Kamu =  70 | Komputer =  60\n",
      "\n",
      "1. Batu    2. Gunting    3. Kertas\n",
      "Pilihan : 3\n",
      "Kamu: Kertas VS Komputer: Gunting\n",
      "Skor\n",
      "Kamu =  60 | Komputer =  60\n",
      "\n",
      "1. Batu    2. Gunting    3. Kertas\n",
      "Pilihan : 1\n",
      "Kamu: Batu VS Komputer: Kertas\n",
      "Skor\n",
      "Kamu =  50 | Komputer =  60\n",
      "\n",
      "1. Batu    2. Gunting    3. Kertas\n",
      "Pilihan : 2\n",
      "Seri\n",
      "Skor\n",
      "Kamu =  50 | Komputer =  60\n",
      "\n",
      "1. Batu    2. Gunting    3. Kertas\n",
      "Pilihan : 3\n",
      "Seri\n",
      "Skor\n",
      "Kamu =  50 | Komputer =  60\n",
      "\n",
      "1. Batu    2. Gunting    3. Kertas\n",
      "Pilihan : 1\n",
      "Kamu: Batu VS Komputer: Kertas\n",
      "Skor\n",
      "Kamu =  40 | Komputer =  60\n",
      "\n",
      "1. Batu    2. Gunting    3. Kertas\n",
      "Pilihan : 1\n",
      "Kamu: Batu VS Komputer: Kertas\n",
      "Skor\n",
      "Kamu =  30 | Komputer =  60\n",
      "\n",
      "1. Batu    2. Gunting    3. Kertas\n",
      "Pilihan : 1\n",
      "Kamu: Batu VS Komputer: Kertas\n",
      "Skor\n",
      "Kamu =  20 | Komputer =  60\n",
      "\n",
      "1. Batu    2. Gunting    3. Kertas\n",
      "Pilihan : 1\n",
      "Kamu: Batu VS Komputer: Gunting\n",
      "Skor\n",
      "Kamu =  20 | Komputer =  50\n",
      "\n",
      "1. Batu    2. Gunting    3. Kertas\n",
      "Pilihan : 2\n",
      "Kamu: Gunting VS Komputer: Batu\n",
      "Skor\n",
      "Kamu =  10 | Komputer =  50\n",
      "\n",
      "1. Batu    2. Gunting    3. Kertas\n",
      "Pilihan : 1\n",
      "Seri\n",
      "Skor\n",
      "Kamu =  10 | Komputer =  50\n",
      "\n",
      "1. Batu    2. Gunting    3. Kertas\n",
      "Pilihan : 1\n",
      "Seri\n",
      "Skor\n",
      "Kamu =  10 | Komputer =  50\n",
      "\n",
      "1. Batu    2. Gunting    3. Kertas\n",
      "Pilihan : 3\n",
      "Kamu: Kertas VS Komputer: Batu\n",
      "Skor\n",
      "Kamu =  10 | Komputer =  40\n",
      "\n",
      "1. Batu    2. Gunting    3. Kertas\n",
      "Pilihan : 2\n",
      "Kamu: Gunting VS Komputer: Batu\n",
      "Skor\n",
      "Kamu =  0 | Komputer =  40\n",
      "\n",
      "Kamu Kalah !!!\n"
     ]
    }
   ],
   "source": [
    "import random\n",
    "hum_score = 100\n",
    "com_score = 100\n",
    "pilihan = [1,2,3]\n",
    "while True:\n",
    "    print(\"1. Batu    2. Gunting    3. Kertas\")\n",
    "    hum = int(input(\"Pilihan : \"))\n",
    "    com = random.choice(pilihan)\n",
    "    \n",
    "    if hum not in pilihan:\n",
    "        print(\"Pilihan tidak ada, silahkan pilih 1/2/3\")\n",
    "    elif hum == 1 and com == 2:\n",
    "        print(\"Kamu: Batu VS Komputer: Gunting\")\n",
    "        com_score -= 10\n",
    "        print(\"Skor\")\n",
    "        print(\"Kamu = \", hum_score, \"|\", \"Komputer = \",com_score)\n",
    "        print()\n",
    "    elif hum == 1 and com == 3:\n",
    "        print(\"Kamu: Batu VS Komputer: Kertas\")\n",
    "        print(\"Skor\")\n",
    "        hum_score -= 10\n",
    "        print(\"Kamu = \", hum_score, \"|\", \"Komputer = \",com_score)\n",
    "        print()\n",
    "    elif hum == 2 and com == 1:\n",
    "        print(\"Kamu: Gunting VS Komputer: Batu\")\n",
    "        print(\"Skor\")\n",
    "        hum_score -= 10\n",
    "        print(\"Kamu = \", hum_score, \"|\", \"Komputer = \",com_score)\n",
    "        print()\n",
    "    elif hum == 2 and com == 3:\n",
    "        print(\"Kamu: Gunting VS Komputer: Kertas\")\n",
    "        print(\"Skor\")\n",
    "        com_score -= 10\n",
    "        print(\"Kamu = \", hum_score, \"|\", \"Komputer = \",com_score)\n",
    "        print()\n",
    "    elif hum == 3 and com == 1:\n",
    "        print(\"Kamu: Kertas VS Komputer: Batu\")\n",
    "        print(\"Skor\")\n",
    "        com_score -= 10\n",
    "        print(\"Kamu = \", hum_score, \"|\", \"Komputer = \",com_score)\n",
    "        print()\n",
    "    elif hum == 3 and com == 2:\n",
    "        print(\"Kamu: Kertas VS Komputer: Gunting\")\n",
    "        print(\"Skor\")\n",
    "        hum_score -= 10\n",
    "        print(\"Kamu = \", hum_score, \"|\", \"Komputer = \",com_score)\n",
    "        print()\n",
    "    else:\n",
    "        print(\"Seri\")\n",
    "        print(\"Skor\")\n",
    "        print(\"Kamu = \", hum_score, \"|\", \"Komputer = \",com_score)\n",
    "        print()\n",
    "    \n",
    "    if hum_score == 0:\n",
    "        print(\"Kamu Kalah !!!\")\n",
    "        break\n",
    "    if com_score == 0:\n",
    "        print(\"Kamu Menang !!!\")\n",
    "        break"
   ]
  },
  {
   "cell_type": "code",
   "execution_count": null,
   "metadata": {},
   "outputs": [],
   "source": []
  }
 ],
 "metadata": {
  "kernelspec": {
   "display_name": "Python 3",
   "language": "python",
   "name": "python3"
  },
  "language_info": {
   "codemirror_mode": {
    "name": "ipython",
    "version": 3
   },
   "file_extension": ".py",
   "mimetype": "text/x-python",
   "name": "python",
   "nbconvert_exporter": "python",
   "pygments_lexer": "ipython3",
   "version": "3.8.6"
  }
 },
 "nbformat": 4,
 "nbformat_minor": 4
}
